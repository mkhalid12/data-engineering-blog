{
 "cells": [
  {
   "cell_type": "code",
   "execution_count": 2,
   "id": "8a8791db-f8cb-40df-9cd9-58c5778ceef8",
   "metadata": {},
   "outputs": [
    {
     "name": "stdout",
     "output_type": "stream",
     "text": [
      "\u001b[92mINFO: \u001b[0mThe pyspark.sql.connect.dataframe module could not be imported. This might be due to your PySpark version being below 3.4.\n"
     ]
    }
   ],
   "source": [
    "from langchain.chat_models import ChatOpenAI\n",
    "from pyspark_ai import SparkAI\n",
    "\n",
    "# If 'gpt-4' is unavailable, use 'gpt-3.5-turbo' (might lower output quality)\n",
    "# llm = ChatOpenAI(model_name='gpt-3.5-turbo', temperature=0)\n",
    "# spark_ai = SparkAI(llm=llm, verbose=True)\n",
    "\n",
    "# Initialize SparkAI with the ChatOpenAI model\n",
    "\n",
    "spark_ai = SparkAI()\n",
    "# spark_ai = SparkAI()\n",
    "# Activate partial functions for Spark DataFrame\n",
    "spark_ai.activate()"
   ]
  },
  {
   "cell_type": "code",
   "execution_count": 30,
   "id": "a78d824e-d8e1-47e2-9115-366d1332c444",
   "metadata": {},
   "outputs": [
    {
     "name": "stdout",
     "output_type": "stream",
     "text": [
      "\u001b[92mINFO: \u001b[0mParsing URL: https://crypto.com/price\n",
      "\n",
      "\u001b[92mINFO: \u001b[0mSQL query for the ingestion:\n",
      "\u001b[34mCREATE\u001b[39;49;00m\u001b[37m \u001b[39;49;00m\u001b[34mOR\u001b[39;49;00m\u001b[37m \u001b[39;49;00m\u001b[34mREPLACE\u001b[39;49;00m\u001b[37m \u001b[39;49;00mTEMP\u001b[37m \u001b[39;49;00m\u001b[34mVIEW\u001b[39;49;00m\u001b[37m \u001b[39;49;00mspark_ai_temp_view_792142\u001b[37m \u001b[39;49;00m\u001b[34mAS\u001b[39;49;00m\u001b[37m \u001b[39;49;00m\n",
      "\u001b[34mSELECT\u001b[39;49;00m\u001b[37m \u001b[39;49;00m*\u001b[37m \u001b[39;49;00m\u001b[34mFROM\u001b[39;49;00m\u001b[37m \u001b[39;49;00m\u001b[34mVALUES\u001b[39;49;00m\u001b[37m\u001b[39;49;00m\n",
      "(\u001b[33m'Bitcoin'\u001b[39;49;00m,\u001b[37m \u001b[39;49;00m\u001b[34m43646\u001b[39;49;00m.\u001b[34m90\u001b[39;49;00m,\u001b[37m \u001b[39;49;00m-\u001b[34m0\u001b[39;49;00m.\u001b[34m35\u001b[39;49;00m,\u001b[37m \u001b[39;49;00m\u001b[34m15\u001b[39;49;00m.\u001b[34m44\u001b[39;49;00m,\u001b[37m \u001b[39;49;00m\u001b[34m854\u001b[39;49;00m.\u001b[34m6\u001b[39;49;00m),\u001b[37m\u001b[39;49;00m\n",
      "(\u001b[33m'Ethereum'\u001b[39;49;00m,\u001b[37m \u001b[39;49;00m\u001b[34m2287\u001b[39;49;00m.\u001b[34m99\u001b[39;49;00m,\u001b[37m \u001b[39;49;00m-\u001b[34m0\u001b[39;49;00m.\u001b[34m59\u001b[39;49;00m,\u001b[37m \u001b[39;49;00m\u001b[34m8\u001b[39;49;00m.\u001b[34m98\u001b[39;49;00m,\u001b[37m \u001b[39;49;00m\u001b[34m274\u001b[39;49;00m.\u001b[34m98\u001b[39;49;00m),\u001b[37m\u001b[39;49;00m\n",
      "(\u001b[33m'Tether'\u001b[39;49;00m,\u001b[37m \u001b[39;49;00m\u001b[34m1\u001b[39;49;00m.\u001b[34m00\u001b[39;49;00m,\u001b[37m \u001b[39;49;00m-\u001b[34m0\u001b[39;49;00m.\u001b[34m03\u001b[39;49;00m,\u001b[37m \u001b[39;49;00m\u001b[34m46\u001b[39;49;00m.\u001b[34m19\u001b[39;49;00m,\u001b[37m \u001b[39;49;00m\u001b[34m91\u001b[39;49;00m.\u001b[34m38\u001b[39;49;00m),\u001b[37m\u001b[39;49;00m\n",
      "(\u001b[33m'Solana'\u001b[39;49;00m,\u001b[37m \u001b[39;49;00m\u001b[34m115\u001b[39;49;00m.\u001b[34m40\u001b[39;49;00m,\u001b[37m \u001b[39;49;00m\u001b[34m15\u001b[39;49;00m.\u001b[34m67\u001b[39;49;00m,\u001b[37m \u001b[39;49;00m\u001b[34m7\u001b[39;49;00m.\u001b[34m12\u001b[39;49;00m,\u001b[37m \u001b[39;49;00m\u001b[34m49\u001b[39;49;00m.\u001b[34m33\u001b[39;49;00m),\u001b[37m\u001b[39;49;00m\n",
      "(\u001b[33m'BNB'\u001b[39;49;00m,\u001b[37m \u001b[39;49;00m\u001b[34m269\u001b[39;49;00m.\u001b[34m23\u001b[39;49;00m,\u001b[37m \u001b[39;49;00m-\u001b[34m0\u001b[39;49;00m.\u001b[34m58\u001b[39;49;00m,\u001b[37m \u001b[39;49;00m\u001b[34m0\u001b[39;49;00m.\u001b[34m79327\u001b[39;49;00m,\u001b[37m \u001b[39;49;00m\u001b[34m40\u001b[39;49;00m.\u001b[34m84\u001b[39;49;00m),\u001b[37m\u001b[39;49;00m\n",
      "(\u001b[33m'XRP'\u001b[39;49;00m,\u001b[37m \u001b[39;49;00m\u001b[34m0\u001b[39;49;00m.\u001b[34m6215\u001b[39;49;00m,\u001b[37m \u001b[39;49;00m\u001b[34m0\u001b[39;49;00m.\u001b[34m29\u001b[39;49;00m,\u001b[37m \u001b[39;49;00m\u001b[34m0\u001b[39;49;00m.\u001b[34m99526\u001b[39;49;00m,\u001b[37m \u001b[39;49;00m\u001b[34m33\u001b[39;49;00m.\u001b[34m6\u001b[39;49;00m),\u001b[37m\u001b[39;49;00m\n",
      "(\u001b[33m'USD Coin'\u001b[39;49;00m,\u001b[37m \u001b[39;49;00m\u001b[34m1\u001b[39;49;00m.\u001b[34m00\u001b[39;49;00m,\u001b[37m \u001b[39;49;00m-\u001b[34m0\u001b[39;49;00m.\u001b[34m03\u001b[39;49;00m,\u001b[37m \u001b[39;49;00m\u001b[34m4\u001b[39;49;00m.\u001b[34m05\u001b[39;49;00m,\u001b[37m \u001b[39;49;00m\u001b[34m25\u001b[39;49;00m.\u001b[34m09\u001b[39;49;00m),\u001b[37m\u001b[39;49;00m\n",
      "(\u001b[33m'Cardano'\u001b[39;49;00m,\u001b[37m \u001b[39;49;00m\u001b[34m0\u001b[39;49;00m.\u001b[34m6159\u001b[39;49;00m,\u001b[37m \u001b[39;49;00m\u001b[34m1\u001b[39;49;00m.\u001b[34m87\u001b[39;49;00m,\u001b[37m \u001b[39;49;00m\u001b[34m0\u001b[39;49;00m.\u001b[34m7222\u001b[39;49;00m,\u001b[37m \u001b[39;49;00m\u001b[34m21\u001b[39;49;00m.\u001b[34m77\u001b[39;49;00m),\u001b[37m\u001b[39;49;00m\n",
      "(\u001b[33m'Avalanche'\u001b[39;49;00m,\u001b[37m \u001b[39;49;00m\u001b[34m48\u001b[39;49;00m.\u001b[34m58\u001b[39;49;00m,\u001b[37m \u001b[39;49;00m\u001b[34m9\u001b[39;49;00m.\u001b[34m18\u001b[39;49;00m,\u001b[37m \u001b[39;49;00m\u001b[34m1\u001b[39;49;00m.\u001b[34m86\u001b[39;49;00m,\u001b[37m \u001b[39;49;00m\u001b[34m17\u001b[39;49;00m.\u001b[34m75\u001b[39;49;00m),\u001b[37m\u001b[39;49;00m\n",
      "(\u001b[33m'Dogecoin'\u001b[39;49;00m,\u001b[37m \u001b[39;49;00m\u001b[34m0\u001b[39;49;00m.\u001b[34m09379\u001b[39;49;00m,\u001b[37m \u001b[39;49;00m\u001b[34m0\u001b[39;49;00m.\u001b[34m74\u001b[39;49;00m,\u001b[37m \u001b[39;49;00m\u001b[34m0\u001b[39;49;00m.\u001b[34m50019\u001b[39;49;00m,\u001b[37m \u001b[39;49;00m\u001b[34m13\u001b[39;49;00m.\u001b[34m35\u001b[39;49;00m)\u001b[37m\u001b[39;49;00m\n",
      "\u001b[34mAS\u001b[39;49;00m\u001b[37m \u001b[39;49;00mv1(cryptocurrency_name,\u001b[37m \u001b[39;49;00mprice,\u001b[37m \u001b[39;49;00mchange_24h,\u001b[37m \u001b[39;49;00mvolume_24h,\u001b[37m \u001b[39;49;00mmarket_cap)\u001b[37m\u001b[39;49;00m\n",
      "\n",
      "\u001b[92mINFO: \u001b[0mStoring data into temp view: spark_ai_temp_view_792142\n",
      "\n",
      "+-------------------+-----------+----------+----------+----------+\n",
      "|cryptocurrency_name|      price|change_24h|volume_24h|market_cap|\n",
      "+-------------------+-----------+----------+----------+----------+\n",
      "|            Bitcoin|43646.90000|     -0.35|  15.44000|    854.60|\n",
      "|           Ethereum| 2287.99000|     -0.59|   8.98000|    274.98|\n",
      "|             Tether|    1.00000|     -0.03|  46.19000|     91.38|\n",
      "|             Solana|  115.40000|     15.67|   7.12000|     49.33|\n",
      "|                BNB|  269.23000|     -0.58|   0.79327|     40.84|\n",
      "|                XRP|    0.62150|      0.29|   0.99526|     33.60|\n",
      "|           USD Coin|    1.00000|     -0.03|   4.05000|     25.09|\n",
      "|            Cardano|    0.61590|      1.87|   0.72220|     21.77|\n",
      "|          Avalanche|   48.58000|      9.18|   1.86000|     17.75|\n",
      "|           Dogecoin|    0.09379|      0.74|   0.50019|     13.35|\n",
      "+-------------------+-----------+----------+----------+----------+\n",
      "\n"
     ]
    }
   ],
   "source": [
    "# auto_df = spark_ai.create_df(\"https://github.com/airbytehq/airbyte/pulls/\")\n",
    "# auto_df = spark_ai.create_df(\"top ranked GitHub repositories of open source\")\n",
    "\n",
    "crypto_df = spark_ai.create_df('What are the cryptocurrency price for today', ['cryptocurrency_name','price','change_24h','volume_24h','market_cap'])\n",
    "spark_ai.commit()\n",
    "crypto_df.show()"
   ]
  },
  {
   "cell_type": "code",
   "execution_count": 52,
   "id": "ccba8d3d-6a82-4fa9-9002-b8254eeaa90c",
   "metadata": {},
   "outputs": [
    {
     "name": "stdout",
     "output_type": "stream",
     "text": [
      "\u001b[92mINFO: \u001b[0mParsing URL: https://github.com/trending\n",
      "\n",
      "\u001b[92mINFO: \u001b[0mSQL query for the ingestion:\n",
      "\u001b[34mCREATE\u001b[39;49;00m\u001b[37m \u001b[39;49;00m\u001b[34mOR\u001b[39;49;00m\u001b[37m \u001b[39;49;00m\u001b[34mREPLACE\u001b[39;49;00m\u001b[37m \u001b[39;49;00mTEMP\u001b[37m \u001b[39;49;00m\u001b[34mVIEW\u001b[39;49;00m\u001b[37m \u001b[39;49;00mspark_ai_temp_view_263671\u001b[37m \u001b[39;49;00m\u001b[34mAS\u001b[39;49;00m\u001b[37m \u001b[39;49;00m\n",
      "\u001b[34mSELECT\u001b[39;49;00m\u001b[37m \u001b[39;49;00m*\u001b[37m \u001b[39;49;00m\u001b[34mFROM\u001b[39;49;00m\u001b[37m \u001b[39;49;00m\u001b[34mVALUES\u001b[39;49;00m\u001b[37m\u001b[39;49;00m\n",
      "(\u001b[33m'gpt-pilot'\u001b[39;49;00m,\u001b[37m \u001b[39;49;00m\u001b[33m'Pythagora-io'\u001b[39;49;00m,\u001b[37m \u001b[39;49;00m\u001b[33m'2022-01-01'\u001b[39;49;00m),\u001b[37m\u001b[39;49;00m\n",
      "(\u001b[33m'AppAgent'\u001b[39;49;00m,\u001b[37m \u001b[39;49;00m\u001b[33m'mnotgod96'\u001b[39;49;00m,\u001b[37m \u001b[39;49;00m\u001b[33m'2022-01-02'\u001b[39;49;00m),\u001b[37m\u001b[39;49;00m\n",
      "(\u001b[33m'StreamDiffusion'\u001b[39;49;00m,\u001b[37m \u001b[39;49;00m\u001b[33m'cumulo-autumn'\u001b[39;49;00m,\u001b[37m \u001b[39;49;00m\u001b[33m'2022-01-03'\u001b[39;49;00m)\u001b[37m \u001b[39;49;00m\n",
      "\u001b[34mAS\u001b[39;49;00m\u001b[37m \u001b[39;49;00mv1(repo_name,\u001b[37m \u001b[39;49;00m\u001b[34mowner\u001b[39;49;00m,\u001b[37m \u001b[39;49;00mcreated_at)\u001b[37m\u001b[39;49;00m\n",
      "\n",
      "\u001b[92mINFO: \u001b[0mStoring data into temp view: spark_ai_temp_view_263671\n",
      "\n",
      "+---------------+-------------+----------+\n",
      "|repo_name      |owner        |created_at|\n",
      "+---------------+-------------+----------+\n",
      "|gpt-pilot      |Pythagora-io |2022-01-01|\n",
      "|AppAgent       |mnotgod96    |2022-01-02|\n",
      "|StreamDiffusion|cumulo-autumn|2022-01-03|\n",
      "+---------------+-------------+----------+\n",
      "\n"
     ]
    }
   ],
   "source": [
    "github_trending = spark_ai.create_df(\"github trending repositories\",['repo_name','owner','created_at'])\n",
    "spark_ai.commit()\n",
    "github_trending.show(truncate=False)\n"
   ]
  },
  {
   "cell_type": "code",
   "execution_count": 54,
   "id": "362282cb-4ac2-4a1f-ba77-d77b084eecef",
   "metadata": {},
   "outputs": [
    {
     "name": "stdout",
     "output_type": "stream",
     "text": [
      "\u001b[92mINFO: \u001b[0mParsing URL: https://github.com/trending\n",
      "\n",
      "\u001b[92mINFO: \u001b[0mSQL query for the ingestion:\n",
      "\u001b[34mCREATE\u001b[39;49;00m\u001b[37m \u001b[39;49;00m\u001b[34mOR\u001b[39;49;00m\u001b[37m \u001b[39;49;00m\u001b[34mREPLACE\u001b[39;49;00m\u001b[37m \u001b[39;49;00mTEMP\u001b[37m \u001b[39;49;00m\u001b[34mVIEW\u001b[39;49;00m\u001b[37m \u001b[39;49;00mspark_ai_temp_view_263671\u001b[37m \u001b[39;49;00m\u001b[34mAS\u001b[39;49;00m\u001b[37m \u001b[39;49;00m\u001b[34mSELECT\u001b[39;49;00m\u001b[37m \u001b[39;49;00m*\u001b[37m \u001b[39;49;00m\u001b[34mFROM\u001b[39;49;00m\u001b[37m \u001b[39;49;00m\u001b[34mVALUES\u001b[39;49;00m\u001b[37m\u001b[39;49;00m\n",
      "(\u001b[33m'Pythagora-io / gpt-pilot'\u001b[39;49;00m,\u001b[37m \u001b[39;49;00m\u001b[33m'Python'\u001b[39;49;00m,\u001b[37m \u001b[39;49;00m\u001b[34m16761\u001b[39;49;00m),\u001b[37m\u001b[39;49;00m\n",
      "(\u001b[33m'mnotgod96 / AppAgent'\u001b[39;49;00m,\u001b[37m \u001b[39;49;00m\u001b[33m'Python'\u001b[39;49;00m,\u001b[37m \u001b[39;49;00m\u001b[34m725\u001b[39;49;00m),\u001b[37m\u001b[39;49;00m\n",
      "(\u001b[33m'cumulo-autumn / StreamDiffusion'\u001b[39;49;00m,\u001b[37m \u001b[39;49;00m\u001b[33m'Python'\u001b[39;49;00m,\u001b[37m \u001b[39;49;00m\u001b[34m2429\u001b[39;49;00m),\u001b[37m\u001b[39;49;00m\n",
      "(\u001b[33m'ton-community / tsc5'\u001b[39;49;00m,\u001b[37m \u001b[39;49;00m\u001b[33m'TypeScript'\u001b[39;49;00m,\u001b[37m \u001b[39;49;00m\u001b[34m35\u001b[39;49;00m),\u001b[37m\u001b[39;49;00m\n",
      "(\u001b[33m'mckaywrigley / chatbot-ui'\u001b[39;49;00m,\u001b[37m \u001b[39;49;00m\u001b[33m'TypeScript'\u001b[39;49;00m,\u001b[37m \u001b[39;49;00m\u001b[34m19598\u001b[39;49;00m),\u001b[37m\u001b[39;49;00m\n",
      "(\u001b[33m'Anuken / Mindustry'\u001b[39;49;00m,\u001b[37m \u001b[39;49;00m\u001b[33m'Java'\u001b[39;49;00m,\u001b[37m \u001b[39;49;00m\u001b[34m20057\u001b[39;49;00m),\u001b[37m\u001b[39;49;00m\n",
      "(\u001b[33m'NationalSecurityAgency / ghidra'\u001b[39;49;00m,\u001b[37m \u001b[39;49;00m\u001b[33m'Java'\u001b[39;49;00m,\u001b[37m \u001b[39;49;00m\u001b[34m44841\u001b[39;49;00m),\u001b[37m\u001b[39;49;00m\n",
      "(\u001b[33m'beeper / imessage'\u001b[39;49;00m,\u001b[37m \u001b[39;49;00m\u001b[33m'Go'\u001b[39;49;00m,\u001b[37m \u001b[39;49;00m\u001b[34m683\u001b[39;49;00m),\u001b[37m\u001b[39;49;00m\n",
      "(\u001b[33m'labring / FastGPT'\u001b[39;49;00m,\u001b[37m \u001b[39;49;00m\u001b[33m'TypeScript'\u001b[39;49;00m,\u001b[37m \u001b[39;49;00m\u001b[34m7486\u001b[39;49;00m),\u001b[37m\u001b[39;49;00m\n",
      "(\u001b[33m'heyman / heynote'\u001b[39;49;00m,\u001b[37m \u001b[39;49;00m\u001b[33m'JavaScript'\u001b[39;49;00m,\u001b[37m \u001b[39;49;00m\u001b[34m1002\u001b[39;49;00m),\u001b[37m\u001b[39;49;00m\n",
      "(\u001b[33m'AmruthPillai / Reactive-Resume'\u001b[39;49;00m,\u001b[37m \u001b[39;49;00m\u001b[33m'TypeScript'\u001b[39;49;00m,\u001b[37m \u001b[39;49;00m\u001b[34m15134\u001b[39;49;00m),\u001b[37m\u001b[39;49;00m\n",
      "(\u001b[33m'papers-we-love / papers-we-love'\u001b[39;49;00m,\u001b[37m \u001b[39;49;00m\u001b[33m'Shell'\u001b[39;49;00m,\u001b[37m \u001b[39;49;00m\u001b[34m78920\u001b[39;49;00m),\u001b[37m\u001b[39;49;00m\n",
      "(\u001b[33m'jwasham / coding-interview-university'\u001b[39;49;00m,\u001b[37m \u001b[39;49;00m\u001b[34mNULL\u001b[39;49;00m,\u001b[37m \u001b[39;49;00m\u001b[34m273884\u001b[39;49;00m),\u001b[37m\u001b[39;49;00m\n",
      "(\u001b[33m'guoqincode / AnimateAnyone-unofficial'\u001b[39;49;00m,\u001b[37m \u001b[39;49;00m\u001b[33m'Python'\u001b[39;49;00m,\u001b[37m \u001b[39;49;00m\u001b[34m676\u001b[39;49;00m),\u001b[37m\u001b[39;49;00m\n",
      "(\u001b[33m'lllyasviel / Fooocus'\u001b[39;49;00m,\u001b[37m \u001b[39;49;00m\u001b[33m'Python'\u001b[39;49;00m,\u001b[37m \u001b[39;49;00m\u001b[34m26330\u001b[39;49;00m),\u001b[37m\u001b[39;49;00m\n",
      "(\u001b[33m'SillyTavern / SillyTavern'\u001b[39;49;00m,\u001b[37m \u001b[39;49;00m\u001b[34mNULL\u001b[39;49;00m,\u001b[37m \u001b[39;49;00m\u001b[34mNULL\u001b[39;49;00m)\u001b[37m\u001b[39;49;00m\n",
      "\u001b[34mAS\u001b[39;49;00m\u001b[37m \u001b[39;49;00mv1(repo_name,\u001b[37m \u001b[39;49;00m\u001b[34mlanguage\u001b[39;49;00m,\u001b[37m \u001b[39;49;00mstars)\u001b[37m\u001b[39;49;00m\n",
      "\n",
      "\u001b[92mINFO: \u001b[0mStoring data into temp view: spark_ai_temp_view_263671\n",
      "\n",
      "+-------------------------------------+----------+------+\n",
      "|repo_name                            |language  |stars |\n",
      "+-------------------------------------+----------+------+\n",
      "|Pythagora-io / gpt-pilot             |Python    |16761 |\n",
      "|mnotgod96 / AppAgent                 |Python    |725   |\n",
      "|cumulo-autumn / StreamDiffusion      |Python    |2429  |\n",
      "|ton-community / tsc5                 |TypeScript|35    |\n",
      "|mckaywrigley / chatbot-ui            |TypeScript|19598 |\n",
      "|Anuken / Mindustry                   |Java      |20057 |\n",
      "|NationalSecurityAgency / ghidra      |Java      |44841 |\n",
      "|beeper / imessage                    |Go        |683   |\n",
      "|labring / FastGPT                    |TypeScript|7486  |\n",
      "|heyman / heynote                     |JavaScript|1002  |\n",
      "|AmruthPillai / Reactive-Resume       |TypeScript|15134 |\n",
      "|papers-we-love / papers-we-love      |Shell     |78920 |\n",
      "|jwasham / coding-interview-university|NULL      |273884|\n",
      "|guoqincode / AnimateAnyone-unofficial|Python    |676   |\n",
      "|lllyasviel / Fooocus                 |Python    |26330 |\n",
      "|SillyTavern / SillyTavern            |NULL      |NULL  |\n",
      "+-------------------------------------+----------+------+\n",
      "\n"
     ]
    },
    {
     "data": {
      "text/plain": [
       "16"
      ]
     },
     "execution_count": 54,
     "metadata": {},
     "output_type": "execute_result"
    }
   ],
   "source": [
    "all_github_trending = spark_ai.create_df(\"all github trending repositories\",['repo_name','language','stars'])\n",
    "spark_ai.commit()\n",
    "all_github_trending.show(truncate=False)\n",
    "all_github_trending.count()"
   ]
  },
  {
   "cell_type": "code",
   "execution_count": 58,
   "id": "252c3e18-2e60-4604-8689-b2bde226a00e",
   "metadata": {},
   "outputs": [
    {
     "name": "stdout",
     "output_type": "stream",
     "text": [
      "\u001b[92mINFO: \u001b[0mCreating temp view for the transform:\n",
      "df.createOrReplaceTempView(\u001b[33m\"\u001b[39;49;00m\u001b[33mspark_ai_temp_view_2139859579\u001b[39;49;00m\u001b[33m\"\u001b[39;49;00m)\u001b[37m\u001b[39;49;00m\n",
      "\n",
      "\u001b[92mINFO: \u001b[0mUsing cached result for the transform:\n",
      "\u001b[92mINFO: \u001b[0m\u001b[34mSELECT\u001b[39;49;00m\u001b[37m \u001b[39;49;00mrepo_name,\u001b[37m \u001b[39;49;00mstars\u001b[37m \u001b[39;49;00m\u001b[34mFROM\u001b[39;49;00m\u001b[37m \u001b[39;49;00mspark_ai_temp_view\u001b[37m \u001b[39;49;00m\u001b[34mORDER\u001b[39;49;00m\u001b[37m \u001b[39;49;00m\u001b[34mBY\u001b[39;49;00m\u001b[37m \u001b[39;49;00mstars\u001b[37m \u001b[39;49;00m\u001b[34mDESC\u001b[39;49;00m\u001b[37m \u001b[39;49;00m\u001b[34mLIMIT\u001b[39;49;00m\u001b[37m \u001b[39;49;00m\u001b[34m2\u001b[39;49;00m\u001b[37m\u001b[39;49;00m\n",
      "\n",
      "+-------------------------------------+------+\n",
      "|repo_name                            |stars |\n",
      "+-------------------------------------+------+\n",
      "|jwasham / coding-interview-university|273884|\n",
      "|papers-we-love / papers-we-love      |78920 |\n",
      "+-------------------------------------+------+\n",
      "\n"
     ]
    }
   ],
   "source": [
    "all_github_trending.ai.transform(\"What are the higher and second highest ranked stars repository\").show(truncate=False)\n"
   ]
  },
  {
   "cell_type": "code",
   "execution_count": 57,
   "id": "1c71b798-db44-4da3-8963-7db5b979003c",
   "metadata": {},
   "outputs": [
    {
     "name": "stdout",
     "output_type": "stream",
     "text": [
      "\u001b[92mINFO: \u001b[0mCreating temp view for the transform:\n",
      "df.createOrReplaceTempView(\u001b[33m\"\u001b[39;49;00m\u001b[33mspark_ai_temp_view_2139859579\u001b[39;49;00m\u001b[33m\"\u001b[39;49;00m)\u001b[37m\u001b[39;49;00m\n",
      "\n",
      "\u001b[92mINFO: \u001b[0mUsing cached result for the transform:\n",
      "\u001b[92mINFO: \u001b[0m\u001b[34mSELECT\u001b[39;49;00m\u001b[37m \u001b[39;49;00m\u001b[34mlanguage\u001b[39;49;00m,\u001b[37m \u001b[39;49;00mrepo_name,\u001b[37m \u001b[39;49;00mstars\u001b[37m \u001b[39;49;00m\u001b[34mFROM\u001b[39;49;00m\u001b[37m \u001b[39;49;00m(\u001b[34mSELECT\u001b[39;49;00m\u001b[37m \u001b[39;49;00m\u001b[34mlanguage\u001b[39;49;00m,\u001b[37m \u001b[39;49;00mrepo_name,\u001b[37m \u001b[39;49;00mstars,\u001b[37m \u001b[39;49;00mROW_NUMBER()\u001b[37m \u001b[39;49;00mOVER\u001b[37m \u001b[39;49;00m(PARTITION\u001b[37m \u001b[39;49;00m\u001b[34mBY\u001b[39;49;00m\u001b[37m \u001b[39;49;00m\u001b[34mlanguage\u001b[39;49;00m\u001b[37m \u001b[39;49;00m\u001b[34mORDER\u001b[39;49;00m\u001b[37m \u001b[39;49;00m\u001b[34mBY\u001b[39;49;00m\u001b[37m \u001b[39;49;00mstars\u001b[37m \u001b[39;49;00m\u001b[34mDESC\u001b[39;49;00m)\u001b[37m \u001b[39;49;00m\u001b[34mas\u001b[39;49;00m\u001b[37m \u001b[39;49;00mrank\u001b[37m \u001b[39;49;00m\u001b[34mFROM\u001b[39;49;00m\u001b[37m \u001b[39;49;00mspark_ai_temp_view)\u001b[37m \u001b[39;49;00m\u001b[34mWHERE\u001b[39;49;00m\u001b[37m \u001b[39;49;00mrank\u001b[37m \u001b[39;49;00m<=\u001b[37m \u001b[39;49;00m\u001b[34m2\u001b[39;49;00m\u001b[37m\u001b[39;49;00m\n",
      "\n",
      "+----------+-------------------------------------+------+\n",
      "|language  |repo_name                            |stars |\n",
      "+----------+-------------------------------------+------+\n",
      "|NULL      |jwasham / coding-interview-university|273884|\n",
      "|NULL      |SillyTavern / SillyTavern            |NULL  |\n",
      "|Go        |beeper / imessage                    |683   |\n",
      "|Java      |NationalSecurityAgency / ghidra      |44841 |\n",
      "|Java      |Anuken / Mindustry                   |20057 |\n",
      "|JavaScript|heyman / heynote                     |1002  |\n",
      "|Python    |lllyasviel / Fooocus                 |26330 |\n",
      "|Python    |Pythagora-io / gpt-pilot             |16761 |\n",
      "|Shell     |papers-we-love / papers-we-love      |78920 |\n",
      "|TypeScript|mckaywrigley / chatbot-ui            |19598 |\n",
      "|TypeScript|AmruthPillai / Reactive-Resume       |15134 |\n",
      "+----------+-------------------------------------+------+\n",
      "\n"
     ]
    }
   ],
   "source": [
    "all_github_trending.ai.transform(\"What are the higher and second highest ranked stars repository in each language\").show(truncate=False)"
   ]
  },
  {
   "cell_type": "code",
   "execution_count": 37,
   "id": "5e9f05aa-0e1c-4b3a-8526-fede46f5c47d",
   "metadata": {},
   "outputs": [
    {
     "name": "stdout",
     "output_type": "stream",
     "text": [
      "\u001b[92mINFO: \u001b[0mParsing URL: https://github.com/airbytehq/airbyte/pulls/\n",
      "\n",
      "\u001b[92mINFO: \u001b[0mSQL query for the ingestion:\n",
      "\u001b[34mCREATE\u001b[39;49;00m\u001b[37m \u001b[39;49;00m\u001b[34mOR\u001b[39;49;00m\u001b[37m \u001b[39;49;00m\u001b[34mREPLACE\u001b[39;49;00m\u001b[37m \u001b[39;49;00mTEMP\u001b[37m \u001b[39;49;00m\u001b[34mVIEW\u001b[39;49;00m\u001b[37m \u001b[39;49;00mspark_ai_temp_view_544707\u001b[37m \u001b[39;49;00m\u001b[34mAS\u001b[39;49;00m\u001b[37m \u001b[39;49;00m\n",
      "\u001b[34mSELECT\u001b[39;49;00m\u001b[37m \u001b[39;49;00m*\u001b[37m \u001b[39;49;00m\u001b[34mFROM\u001b[39;49;00m\u001b[37m \u001b[39;49;00m\u001b[34mVALUES\u001b[39;49;00m\u001b[37m\u001b[39;49;00m\n",
      "(\u001b[33m'Fix CDCPOstgresSourceFullCertificateSslAcceptanceTest'\u001b[39;49;00m,\u001b[37m \u001b[39;49;00m\u001b[33m'2023-12-24'\u001b[39;49;00m,\u001b[37m \u001b[39;49;00m\u001b[33m'stephane-airbyte'\u001b[39;49;00m,\u001b[37m \u001b[39;49;00m\u001b[33m'Open'\u001b[39;49;00m,\u001b[37m \u001b[39;49;00m\u001b[33m'CDK Connector Development Kit'\u001b[39;49;00m),\u001b[37m\u001b[39;49;00m\n",
      "(\u001b[33m'Use base64 to encode mssql binary field'\u001b[39;49;00m,\u001b[37m \u001b[39;49;00m\u001b[33m'2023-12-22'\u001b[39;49;00m,\u001b[37m \u001b[39;49;00m\u001b[33m'xiaohansong'\u001b[39;49;00m,\u001b[37m \u001b[39;49;00m\u001b[33m'Open'\u001b[39;49;00m,\u001b[37m \u001b[39;49;00m\u001b[33m'CDK Connector Development Kit'\u001b[39;49;00m)\u001b[37m\u001b[39;49;00m\n",
      "\u001b[34mAS\u001b[39;49;00m\u001b[37m \u001b[39;49;00mv1(pr_title,\u001b[37m \u001b[39;49;00mpr_created_at,\u001b[37m \u001b[39;49;00mpr_created_by,\u001b[37m \u001b[39;49;00mpr_status,\u001b[37m \u001b[39;49;00mpr_label)\u001b[37m\u001b[39;49;00m\n",
      "\n",
      "\u001b[92mINFO: \u001b[0mStoring data into temp view: spark_ai_temp_view_544707\n",
      "\n",
      "+-----------------------------------------------------+-------------+----------------+---------+-----------------------------+\n",
      "|pr_title                                             |pr_created_at|pr_created_by   |pr_status|pr_label                     |\n",
      "+-----------------------------------------------------+-------------+----------------+---------+-----------------------------+\n",
      "|Fix CDCPOstgresSourceFullCertificateSslAcceptanceTest|2023-12-24   |stephane-airbyte|Open     |CDK Connector Development Kit|\n",
      "|Use base64 to encode mssql binary field              |2023-12-22   |xiaohansong     |Open     |CDK Connector Development Kit|\n",
      "+-----------------------------------------------------+-------------+----------------+---------+-----------------------------+\n",
      "\n"
     ]
    }
   ],
   "source": [
    "\n",
    "airbyte_pulls = spark_ai.create_df(\"https://github.com/airbytehq/airbyte/pulls/\",['pr_title','pr_created_at','pr_created_by', 'pr_status','pr_label'])\n",
    "spark_ai.commit\n",
    "airbyte_pulls.show(truncate=False)\n",
    "\n"
   ]
  }
 ],
 "metadata": {
  "kernelspec": {
   "display_name": "Python 3 (ipykernel)",
   "language": "python",
   "name": "python3"
  },
  "language_info": {
   "codemirror_mode": {
    "name": "ipython",
    "version": 3
   },
   "file_extension": ".py",
   "mimetype": "text/x-python",
   "name": "python",
   "nbconvert_exporter": "python",
   "pygments_lexer": "ipython3",
   "version": "3.11.6"
  }
 },
 "nbformat": 4,
 "nbformat_minor": 5
}
